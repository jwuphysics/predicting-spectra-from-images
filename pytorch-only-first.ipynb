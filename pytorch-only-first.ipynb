{
 "cells": [
  {
   "cell_type": "markdown",
   "metadata": {},
   "source": [
    "# First attempt"
   ]
  },
  {
   "cell_type": "code",
   "execution_count": 1,
   "metadata": {},
   "outputs": [],
   "source": [
    "import numpy as np\n",
    "import pandas as pd\n",
    "from pathlib import Path\n",
    "import tqdm\n",
    "import sys\n",
    "import timm\n",
    "import torch\n",
    "import torchvision\n",
    "import torchvision.transforms as transforms\n",
    "\n",
    "from torch.utils.data import DataLoader, Dataset\n",
    "\n",
    "PATH = Path('.').resolve()\n",
    "rng = np.random.RandomState(42)"
   ]
  },
  {
   "cell_type": "code",
   "execution_count": 2,
   "metadata": {},
   "outputs": [
    {
     "data": {
      "text/html": [
       "<div>\n",
       "<style scoped>\n",
       "    .dataframe tbody tr th:only-of-type {\n",
       "        vertical-align: middle;\n",
       "    }\n",
       "\n",
       "    .dataframe tbody tr th {\n",
       "        vertical-align: top;\n",
       "    }\n",
       "\n",
       "    .dataframe thead th {\n",
       "        text-align: right;\n",
       "    }\n",
       "</style>\n",
       "<table border=\"1\" class=\"dataframe\">\n",
       "  <thead>\n",
       "    <tr style=\"text-align: right;\">\n",
       "      <th></th>\n",
       "      <th>plate</th>\n",
       "      <th>mjd</th>\n",
       "      <th>fiberid</th>\n",
       "      <th>spec_class</th>\n",
       "      <th>VAE1</th>\n",
       "      <th>VAE2</th>\n",
       "      <th>VAE3</th>\n",
       "      <th>VAE4</th>\n",
       "      <th>VAE5</th>\n",
       "      <th>VAE6</th>\n",
       "      <th>SpecObjID</th>\n",
       "      <th>ra</th>\n",
       "      <th>dec</th>\n",
       "      <th>z</th>\n",
       "      <th>primTarget</th>\n",
       "      <th>snMedian</th>\n",
       "      <th>rChi2</th>\n",
       "    </tr>\n",
       "  </thead>\n",
       "  <tbody>\n",
       "    <tr>\n",
       "      <th>0</th>\n",
       "      <td>266</td>\n",
       "      <td>51630</td>\n",
       "      <td>1</td>\n",
       "      <td>0</td>\n",
       "      <td>-0.368723</td>\n",
       "      <td>-0.917751</td>\n",
       "      <td>0.501150</td>\n",
       "      <td>-0.276343</td>\n",
       "      <td>0.462915</td>\n",
       "      <td>-0.062147</td>\n",
       "      <td>299489677444933632</td>\n",
       "      <td>146.714210</td>\n",
       "      <td>-1.041304</td>\n",
       "      <td>0.021222</td>\n",
       "      <td>96</td>\n",
       "      <td>39.046780</td>\n",
       "      <td>1.500621</td>\n",
       "    </tr>\n",
       "    <tr>\n",
       "      <th>1</th>\n",
       "      <td>266</td>\n",
       "      <td>51630</td>\n",
       "      <td>2</td>\n",
       "      <td>0</td>\n",
       "      <td>-1.158448</td>\n",
       "      <td>-0.605929</td>\n",
       "      <td>-0.147964</td>\n",
       "      <td>1.074922</td>\n",
       "      <td>-1.062042</td>\n",
       "      <td>-1.431129</td>\n",
       "      <td>299489952322840576</td>\n",
       "      <td>146.744130</td>\n",
       "      <td>-0.652191</td>\n",
       "      <td>0.203783</td>\n",
       "      <td>96</td>\n",
       "      <td>9.905860</td>\n",
       "      <td>1.302946</td>\n",
       "    </tr>\n",
       "    <tr>\n",
       "      <th>2</th>\n",
       "      <td>266</td>\n",
       "      <td>51630</td>\n",
       "      <td>4</td>\n",
       "      <td>0</td>\n",
       "      <td>-0.136203</td>\n",
       "      <td>-0.322451</td>\n",
       "      <td>0.598281</td>\n",
       "      <td>-0.124769</td>\n",
       "      <td>1.267600</td>\n",
       "      <td>0.908781</td>\n",
       "      <td>299490502078654464</td>\n",
       "      <td>146.628570</td>\n",
       "      <td>-0.765137</td>\n",
       "      <td>0.064656</td>\n",
       "      <td>64</td>\n",
       "      <td>17.981470</td>\n",
       "      <td>1.227630</td>\n",
       "    </tr>\n",
       "    <tr>\n",
       "      <th>3</th>\n",
       "      <td>266</td>\n",
       "      <td>51630</td>\n",
       "      <td>6</td>\n",
       "      <td>1</td>\n",
       "      <td>1.208109</td>\n",
       "      <td>0.956779</td>\n",
       "      <td>-0.228299</td>\n",
       "      <td>-0.030195</td>\n",
       "      <td>-0.627785</td>\n",
       "      <td>0.611048</td>\n",
       "      <td>299491051834468352</td>\n",
       "      <td>146.631670</td>\n",
       "      <td>-0.988278</td>\n",
       "      <td>0.052654</td>\n",
       "      <td>64</td>\n",
       "      <td>7.963448</td>\n",
       "      <td>1.404003</td>\n",
       "    </tr>\n",
       "    <tr>\n",
       "      <th>4</th>\n",
       "      <td>266</td>\n",
       "      <td>51630</td>\n",
       "      <td>7</td>\n",
       "      <td>0</td>\n",
       "      <td>-0.609212</td>\n",
       "      <td>-0.846412</td>\n",
       "      <td>-0.850208</td>\n",
       "      <td>0.566458</td>\n",
       "      <td>-1.246353</td>\n",
       "      <td>-1.169481</td>\n",
       "      <td>299491326712375296</td>\n",
       "      <td>146.919450</td>\n",
       "      <td>-0.990492</td>\n",
       "      <td>0.213861</td>\n",
       "      <td>64</td>\n",
       "      <td>7.951364</td>\n",
       "      <td>1.332148</td>\n",
       "    </tr>\n",
       "    <tr>\n",
       "      <th>...</th>\n",
       "      <td>...</td>\n",
       "      <td>...</td>\n",
       "      <td>...</td>\n",
       "      <td>...</td>\n",
       "      <td>...</td>\n",
       "      <td>...</td>\n",
       "      <td>...</td>\n",
       "      <td>...</td>\n",
       "      <td>...</td>\n",
       "      <td>...</td>\n",
       "      <td>...</td>\n",
       "      <td>...</td>\n",
       "      <td>...</td>\n",
       "      <td>...</td>\n",
       "      <td>...</td>\n",
       "      <td>...</td>\n",
       "      <td>...</td>\n",
       "    </tr>\n",
       "    <tr>\n",
       "      <th>63701</th>\n",
       "      <td>425</td>\n",
       "      <td>51898</td>\n",
       "      <td>602</td>\n",
       "      <td>0</td>\n",
       "      <td>-0.894158</td>\n",
       "      <td>-2.039106</td>\n",
       "      <td>0.413478</td>\n",
       "      <td>0.213428</td>\n",
       "      <td>-0.726911</td>\n",
       "      <td>0.577897</td>\n",
       "      <td>478672968751278080</td>\n",
       "      <td>23.780133</td>\n",
       "      <td>15.450872</td>\n",
       "      <td>0.072433</td>\n",
       "      <td>64</td>\n",
       "      <td>15.980110</td>\n",
       "      <td>1.097326</td>\n",
       "    </tr>\n",
       "    <tr>\n",
       "      <th>63702</th>\n",
       "      <td>425</td>\n",
       "      <td>51898</td>\n",
       "      <td>603</td>\n",
       "      <td>0</td>\n",
       "      <td>-1.086042</td>\n",
       "      <td>-1.317682</td>\n",
       "      <td>2.593123</td>\n",
       "      <td>-2.214063</td>\n",
       "      <td>0.349297</td>\n",
       "      <td>0.036920</td>\n",
       "      <td>478673243629185024</td>\n",
       "      <td>23.731774</td>\n",
       "      <td>15.375771</td>\n",
       "      <td>0.071264</td>\n",
       "      <td>96</td>\n",
       "      <td>11.848070</td>\n",
       "      <td>1.116136</td>\n",
       "    </tr>\n",
       "    <tr>\n",
       "      <th>63703</th>\n",
       "      <td>425</td>\n",
       "      <td>51898</td>\n",
       "      <td>604</td>\n",
       "      <td>0</td>\n",
       "      <td>-0.502692</td>\n",
       "      <td>-0.267302</td>\n",
       "      <td>-0.165126</td>\n",
       "      <td>0.010934</td>\n",
       "      <td>-1.216511</td>\n",
       "      <td>1.484335</td>\n",
       "      <td>478673518507091968</td>\n",
       "      <td>23.732863</td>\n",
       "      <td>15.356637</td>\n",
       "      <td>0.073216</td>\n",
       "      <td>64</td>\n",
       "      <td>15.784980</td>\n",
       "      <td>0.969229</td>\n",
       "    </tr>\n",
       "    <tr>\n",
       "      <th>63704</th>\n",
       "      <td>425</td>\n",
       "      <td>51898</td>\n",
       "      <td>606</td>\n",
       "      <td>0</td>\n",
       "      <td>-1.649470</td>\n",
       "      <td>-0.838885</td>\n",
       "      <td>-0.447896</td>\n",
       "      <td>1.096694</td>\n",
       "      <td>-0.792008</td>\n",
       "      <td>0.449849</td>\n",
       "      <td>478674068262905856</td>\n",
       "      <td>23.760782</td>\n",
       "      <td>15.487749</td>\n",
       "      <td>0.072091</td>\n",
       "      <td>96</td>\n",
       "      <td>31.279550</td>\n",
       "      <td>1.138224</td>\n",
       "    </tr>\n",
       "    <tr>\n",
       "      <th>63705</th>\n",
       "      <td>425</td>\n",
       "      <td>51898</td>\n",
       "      <td>607</td>\n",
       "      <td>0</td>\n",
       "      <td>-1.522540</td>\n",
       "      <td>-0.537990</td>\n",
       "      <td>0.471380</td>\n",
       "      <td>0.769520</td>\n",
       "      <td>-1.358497</td>\n",
       "      <td>0.261908</td>\n",
       "      <td>478674343140812800</td>\n",
       "      <td>23.844268</td>\n",
       "      <td>15.351235</td>\n",
       "      <td>0.072095</td>\n",
       "      <td>64</td>\n",
       "      <td>18.444030</td>\n",
       "      <td>0.961761</td>\n",
       "    </tr>\n",
       "  </tbody>\n",
       "</table>\n",
       "<p>60233 rows × 17 columns</p>\n",
       "</div>"
      ],
      "text/plain": [
       "       plate    mjd  fiberid  spec_class      VAE1      VAE2      VAE3  \\\n",
       "0        266  51630        1           0 -0.368723 -0.917751  0.501150   \n",
       "1        266  51630        2           0 -1.158448 -0.605929 -0.147964   \n",
       "2        266  51630        4           0 -0.136203 -0.322451  0.598281   \n",
       "3        266  51630        6           1  1.208109  0.956779 -0.228299   \n",
       "4        266  51630        7           0 -0.609212 -0.846412 -0.850208   \n",
       "...      ...    ...      ...         ...       ...       ...       ...   \n",
       "63701    425  51898      602           0 -0.894158 -2.039106  0.413478   \n",
       "63702    425  51898      603           0 -1.086042 -1.317682  2.593123   \n",
       "63703    425  51898      604           0 -0.502692 -0.267302 -0.165126   \n",
       "63704    425  51898      606           0 -1.649470 -0.838885 -0.447896   \n",
       "63705    425  51898      607           0 -1.522540 -0.537990  0.471380   \n",
       "\n",
       "           VAE4      VAE5      VAE6           SpecObjID          ra  \\\n",
       "0     -0.276343  0.462915 -0.062147  299489677444933632  146.714210   \n",
       "1      1.074922 -1.062042 -1.431129  299489952322840576  146.744130   \n",
       "2     -0.124769  1.267600  0.908781  299490502078654464  146.628570   \n",
       "3     -0.030195 -0.627785  0.611048  299491051834468352  146.631670   \n",
       "4      0.566458 -1.246353 -1.169481  299491326712375296  146.919450   \n",
       "...         ...       ...       ...                 ...         ...   \n",
       "63701  0.213428 -0.726911  0.577897  478672968751278080   23.780133   \n",
       "63702 -2.214063  0.349297  0.036920  478673243629185024   23.731774   \n",
       "63703  0.010934 -1.216511  1.484335  478673518507091968   23.732863   \n",
       "63704  1.096694 -0.792008  0.449849  478674068262905856   23.760782   \n",
       "63705  0.769520 -1.358497  0.261908  478674343140812800   23.844268   \n",
       "\n",
       "             dec         z  primTarget   snMedian     rChi2  \n",
       "0      -1.041304  0.021222          96  39.046780  1.500621  \n",
       "1      -0.652191  0.203783          96   9.905860  1.302946  \n",
       "2      -0.765137  0.064656          64  17.981470  1.227630  \n",
       "3      -0.988278  0.052654          64   7.963448  1.404003  \n",
       "4      -0.990492  0.213861          64   7.951364  1.332148  \n",
       "...          ...       ...         ...        ...       ...  \n",
       "63701  15.450872  0.072433          64  15.980110  1.097326  \n",
       "63702  15.375771  0.071264          96  11.848070  1.116136  \n",
       "63703  15.356637  0.073216          64  15.784980  0.969229  \n",
       "63704  15.487749  0.072091          96  31.279550  1.138224  \n",
       "63705  15.351235  0.072095          64  18.444030  0.961761  \n",
       "\n",
       "[60233 rows x 17 columns]"
      ]
     },
     "execution_count": 2,
     "metadata": {},
     "output_type": "execute_result"
    }
   ],
   "source": [
    "df = pd.read_csv(f'{PATH}/data/sdss_64k.csv', dtype={'SpecObjID': str})\n",
    "label_cols = [f'VAE{i+1}' for i in range(6)]\n",
    "\n",
    "# normalize inputs\n",
    "mean, std = df[label_cols].mean(), df[label_cols].std()\n",
    "df[label_cols] = (df[label_cols] - mean) / std\n",
    "\n",
    "# isolate galaxies\n",
    "gal = df.loc[(df.primTarget & (64 | 128 | 256)) > 0].copy()\n",
    "gal"
   ]
  },
  {
   "cell_type": "code",
   "execution_count": 3,
   "metadata": {},
   "outputs": [
    {
     "data": {
      "text/plain": [
       "(4, 224, 224)"
      ]
     },
     "execution_count": 3,
     "metadata": {},
     "output_type": "execute_result"
    }
   ],
   "source": [
    "image = np.load(f\"{PATH}/data/ps1_npy_images/466156677649950720.npy\")\n",
    "image.shape"
   ]
  },
  {
   "cell_type": "code",
   "execution_count": 4,
   "metadata": {},
   "outputs": [
    {
     "data": {
      "text/plain": [
       "(60229, 17)"
      ]
     },
     "execution_count": 4,
     "metadata": {},
     "output_type": "execute_result"
    }
   ],
   "source": [
    "# remove wrong-sized inputs\n",
    "gal = gal.set_index('SpecObjID').drop([\"421190773933893632\", \"466155853016229888\", \"466156127894136832\", \"466156677649950720\"]).reset_index()\n",
    "gal.shape\n"
   ]
  },
  {
   "cell_type": "markdown",
   "metadata": {},
   "source": [
    "# Helper function"
   ]
  },
  {
   "cell_type": "code",
   "execution_count": 5,
   "metadata": {
    "tags": []
   },
   "outputs": [],
   "source": [
    "def _open_npy(fn):\n",
    "    return torch.from_numpy(np.nan_to_num(np.load(fn))).float()\n",
    "\n",
    "\n",
    "class GalaxyDataset(Dataset):\n",
    "    def __init__(self, df, image_data_dir=\"./data/ps1_npy_images\", transform=None):\n",
    "        self.data_dir = image_data_dir\n",
    "        self.object_ids = df.SpecObjID.astype(str).values\n",
    "        self.image_files = [f\"{image_data_dir}/{objid}.npy\" for objid in self.object_ids]\n",
    "        self.spec_labels = df[[f\"VAE{i}\" for i in range(1, 7)]].values\n",
    "        \n",
    "        self.transform = transform\n",
    "\n",
    "    def __len__(self):\n",
    "        return len(self.image_files)\n",
    "\n",
    "    def __getitem__(self, idx):\n",
    "        data = _open_npy(self.image_files[idx])\n",
    "        targets = self.spec_labels[idx]\n",
    "        \n",
    "        if self.transform:\n",
    "            data = self.transform(data)\n",
    "        return data, targets\n",
    "\n",
    "dl = DataLoader(\n",
    "    dataset=GalaxyDataset(gal, image_data_dir=f\"{PATH}/data/ps1_npy_images\"),\n",
    "    batch_size=64,\n",
    "    num_workers=16,\n",
    "    shuffle=True\n",
    ")"
   ]
  },
  {
   "cell_type": "code",
   "execution_count": 6,
   "metadata": {},
   "outputs": [
    {
     "data": {
      "text/plain": [
       "(torch.Size([64, 5, 224, 224]), torch.Size([64, 6]))"
      ]
     },
     "execution_count": 6,
     "metadata": {},
     "output_type": "execute_result"
    }
   ],
   "source": [
    "xb, yb = next(iter(dl))\n",
    "xb.shape, yb.shape"
   ]
  },
  {
   "cell_type": "code",
   "execution_count": 7,
   "metadata": {},
   "outputs": [
    {
     "data": {
      "text/plain": [
       "(tensor([123.6845,  86.1325, 149.2548,  69.4890,  31.9974]),\n",
       " tensor([2710.9961, 2086.4534, 4439.1387, 1942.0453,  759.2886]))"
      ]
     },
     "execution_count": 7,
     "metadata": {},
     "output_type": "execute_result"
    }
   ],
   "source": [
    "image_means, image_stds = xb.mean((0,2,3)), xb.std((0,2,3))\n",
    "image_means, image_stds"
   ]
  },
  {
   "cell_type": "code",
   "execution_count": 8,
   "metadata": {},
   "outputs": [],
   "source": [
    "transforms_train = transforms.Compose([\n",
    "    transforms.RandomHorizontalFlip(0.5), \n",
    "    transforms.RandomVerticalFlip(0.5), \n",
    "    transforms.Normalize(image_means, image_stds)\n",
    "])\n",
    "\n",
    "transforms_valid = transforms.Compose([\n",
    "    transforms.RandomHorizontalFlip(0.5), \n",
    "    transforms.RandomVerticalFlip(0.5), \n",
    "    transforms.Normalize(image_means, image_stds)\n",
    "])"
   ]
  },
  {
   "cell_type": "code",
   "execution_count": 9,
   "metadata": {},
   "outputs": [],
   "source": [
    "train = gal.copy().sample(frac=0.8)\n",
    "valid = gal.copy().drop(train.index)"
   ]
  },
  {
   "cell_type": "code",
   "execution_count": 10,
   "metadata": {},
   "outputs": [],
   "source": [
    "dset_train = GalaxyDataset(train, transform=transforms_train)\n",
    "dset_valid = GalaxyDataset(valid, transform=transforms_valid)\n",
    "\n",
    "dl_train = torch.utils.data.DataLoader(dset_train, batch_size=64, shuffle=True)\n",
    "dl_valid = torch.utils.data.DataLoader(dset_valid, batch_size=64, shuffle=True)"
   ]
  },
  {
   "cell_type": "code",
   "execution_count": 22,
   "metadata": {},
   "outputs": [],
   "source": [
    "def create_model(model_type='convnext'):\n",
    "    if model_type == 'convnext':\n",
    "        # almost 16 GB of RAM used at bs = 64\n",
    "        model = timm.create_model('convnext_tiny', pretrained=False)\n",
    "        model.stem[0] = torch.nn.Conv2d(5, 96, kernel_size=(4, 4), stride=(4, 4))\n",
    "        model.head.fc = torch.nn.Linear(in_features=768, out_features=6, bias=True)\n",
    "    \n",
    "    elif model_type == 'resnet':\n",
    "        # uses >10 GB of RAM at bs = 128\n",
    "        model = torchvision.models.resnet34()\n",
    "        model.conv1 = torch.nn.Conv2d(5, 64, kernel_size=(7, 7), stride=(2, 2), padding=(3, 3), bias=False)\n",
    "        model.fc = torch.nn.Linear(in_features=512, out_features=6, bias=True)\n",
    "        \n",
    "    return model"
   ]
  },
  {
   "cell_type": "code",
   "execution_count": 23,
   "metadata": {},
   "outputs": [
    {
     "name": "stderr",
     "output_type": "stream",
     "text": [
      "100%|███████████████████████████████████████████████████████████████████████████████| 753/753 [09:56<00:00,  1.26it/s]\n",
      "100%|███████████████████████████████████████████████████████████████████████████████| 189/189 [00:37<00:00,  5.05it/s]\n"
     ]
    },
    {
     "name": "stdout",
     "output_type": "stream",
     "text": [
      "Epoch 1    Train: 0.8124      Valid: 0.7070\n"
     ]
    },
    {
     "name": "stderr",
     "output_type": "stream",
     "text": [
      "100%|███████████████████████████████████████████████████████████████████████████████| 753/753 [10:09<00:00,  1.24it/s]\n",
      "100%|███████████████████████████████████████████████████████████████████████████████| 189/189 [00:35<00:00,  5.27it/s]\n"
     ]
    },
    {
     "name": "stdout",
     "output_type": "stream",
     "text": [
      "Epoch 2    Train: 0.6751      Valid: 0.6513\n"
     ]
    },
    {
     "name": "stderr",
     "output_type": "stream",
     "text": [
      "100%|███████████████████████████████████████████████████████████████████████████████| 753/753 [10:07<00:00,  1.24it/s]\n",
      "100%|███████████████████████████████████████████████████████████████████████████████| 189/189 [00:35<00:00,  5.35it/s]\n"
     ]
    },
    {
     "name": "stdout",
     "output_type": "stream",
     "text": [
      "Epoch 3    Train: 0.6423      Valid: 0.6644\n"
     ]
    },
    {
     "name": "stderr",
     "output_type": "stream",
     "text": [
      "100%|███████████████████████████████████████████████████████████████████████████████| 753/753 [10:03<00:00,  1.25it/s]\n",
      "100%|███████████████████████████████████████████████████████████████████████████████| 189/189 [00:34<00:00,  5.54it/s]\n"
     ]
    },
    {
     "name": "stdout",
     "output_type": "stream",
     "text": [
      "Epoch 4    Train: 0.6278      Valid: 0.6183\n"
     ]
    },
    {
     "name": "stderr",
     "output_type": "stream",
     "text": [
      "100%|███████████████████████████████████████████████████████████████████████████████| 753/753 [10:04<00:00,  1.25it/s]\n",
      "100%|███████████████████████████████████████████████████████████████████████████████| 189/189 [00:34<00:00,  5.51it/s]\n"
     ]
    },
    {
     "name": "stdout",
     "output_type": "stream",
     "text": [
      "Epoch 5    Train: 0.6197      Valid: 0.6192\n"
     ]
    },
    {
     "name": "stderr",
     "output_type": "stream",
     "text": [
      "100%|███████████████████████████████████████████████████████████████████████████████| 753/753 [10:01<00:00,  1.25it/s]\n",
      "100%|███████████████████████████████████████████████████████████████████████████████| 189/189 [00:34<00:00,  5.48it/s]\n"
     ]
    },
    {
     "name": "stdout",
     "output_type": "stream",
     "text": [
      "Epoch 6    Train: 0.6188      Valid: 0.6222\n"
     ]
    },
    {
     "name": "stderr",
     "output_type": "stream",
     "text": [
      "100%|███████████████████████████████████████████████████████████████████████████████| 753/753 [10:02<00:00,  1.25it/s]\n",
      "100%|███████████████████████████████████████████████████████████████████████████████| 189/189 [00:33<00:00,  5.71it/s]\n"
     ]
    },
    {
     "name": "stdout",
     "output_type": "stream",
     "text": [
      "Epoch 7    Train: 0.6100      Valid: 0.5936\n"
     ]
    },
    {
     "name": "stderr",
     "output_type": "stream",
     "text": [
      "100%|███████████████████████████████████████████████████████████████████████████████| 753/753 [10:02<00:00,  1.25it/s]\n",
      "100%|███████████████████████████████████████████████████████████████████████████████| 189/189 [00:35<00:00,  5.37it/s]\n"
     ]
    },
    {
     "name": "stdout",
     "output_type": "stream",
     "text": [
      "Epoch 8    Train: 0.5921      Valid: 0.5853\n"
     ]
    },
    {
     "name": "stderr",
     "output_type": "stream",
     "text": [
      "100%|███████████████████████████████████████████████████████████████████████████████| 753/753 [10:02<00:00,  1.25it/s]\n",
      "100%|███████████████████████████████████████████████████████████████████████████████| 189/189 [00:34<00:00,  5.49it/s]\n"
     ]
    },
    {
     "name": "stdout",
     "output_type": "stream",
     "text": [
      "Epoch 9    Train: 0.5819      Valid: 0.5742\n"
     ]
    },
    {
     "name": "stderr",
     "output_type": "stream",
     "text": [
      "100%|███████████████████████████████████████████████████████████████████████████████| 753/753 [10:02<00:00,  1.25it/s]\n",
      "100%|███████████████████████████████████████████████████████████████████████████████| 189/189 [00:34<00:00,  5.43it/s]\n"
     ]
    },
    {
     "name": "stdout",
     "output_type": "stream",
     "text": [
      "Epoch 10    Train: 0.5724      Valid: 0.5637\n"
     ]
    },
    {
     "name": "stderr",
     "output_type": "stream",
     "text": [
      "100%|███████████████████████████████████████████████████████████████████████████████| 753/753 [10:02<00:00,  1.25it/s]\n",
      "100%|███████████████████████████████████████████████████████████████████████████████| 189/189 [00:34<00:00,  5.46it/s]\n"
     ]
    },
    {
     "name": "stdout",
     "output_type": "stream",
     "text": [
      "Epoch 11    Train: 0.5635      Valid: 0.5808\n"
     ]
    },
    {
     "name": "stderr",
     "output_type": "stream",
     "text": [
      "100%|███████████████████████████████████████████████████████████████████████████████| 753/753 [10:01<00:00,  1.25it/s]\n",
      "100%|███████████████████████████████████████████████████████████████████████████████| 189/189 [00:33<00:00,  5.58it/s]\n"
     ]
    },
    {
     "name": "stdout",
     "output_type": "stream",
     "text": [
      "Epoch 12    Train: 0.5517      Valid: 0.5548\n"
     ]
    },
    {
     "name": "stderr",
     "output_type": "stream",
     "text": [
      "100%|███████████████████████████████████████████████████████████████████████████████| 753/753 [10:03<00:00,  1.25it/s]\n",
      "100%|███████████████████████████████████████████████████████████████████████████████| 189/189 [00:34<00:00,  5.43it/s]\n"
     ]
    },
    {
     "name": "stdout",
     "output_type": "stream",
     "text": [
      "Epoch 13    Train: 0.5423      Valid: 0.5533\n"
     ]
    },
    {
     "name": "stderr",
     "output_type": "stream",
     "text": [
      "100%|███████████████████████████████████████████████████████████████████████████████| 753/753 [10:02<00:00,  1.25it/s]\n",
      "100%|███████████████████████████████████████████████████████████████████████████████| 189/189 [00:34<00:00,  5.50it/s]\n"
     ]
    },
    {
     "name": "stdout",
     "output_type": "stream",
     "text": [
      "Epoch 14    Train: 0.5315      Valid: 0.5417\n"
     ]
    },
    {
     "name": "stderr",
     "output_type": "stream",
     "text": [
      "100%|███████████████████████████████████████████████████████████████████████████████| 753/753 [10:03<00:00,  1.25it/s]\n",
      "100%|███████████████████████████████████████████████████████████████████████████████| 189/189 [00:34<00:00,  5.52it/s]\n"
     ]
    },
    {
     "name": "stdout",
     "output_type": "stream",
     "text": [
      "Epoch 15    Train: 0.5194      Valid: 0.5399\n"
     ]
    },
    {
     "name": "stderr",
     "output_type": "stream",
     "text": [
      "100%|███████████████████████████████████████████████████████████████████████████████| 753/753 [10:02<00:00,  1.25it/s]\n",
      "100%|███████████████████████████████████████████████████████████████████████████████| 189/189 [00:34<00:00,  5.41it/s]\n"
     ]
    },
    {
     "name": "stdout",
     "output_type": "stream",
     "text": [
      "Epoch 16    Train: 0.5090      Valid: 0.5213\n"
     ]
    },
    {
     "name": "stderr",
     "output_type": "stream",
     "text": [
      "100%|███████████████████████████████████████████████████████████████████████████████| 753/753 [10:03<00:00,  1.25it/s]\n",
      "100%|███████████████████████████████████████████████████████████████████████████████| 189/189 [00:33<00:00,  5.62it/s]\n"
     ]
    },
    {
     "name": "stdout",
     "output_type": "stream",
     "text": [
      "Epoch 17    Train: 0.4960      Valid: 0.5196\n"
     ]
    },
    {
     "name": "stderr",
     "output_type": "stream",
     "text": [
      "100%|███████████████████████████████████████████████████████████████████████████████| 753/753 [10:02<00:00,  1.25it/s]\n",
      "100%|███████████████████████████████████████████████████████████████████████████████| 189/189 [00:34<00:00,  5.41it/s]\n"
     ]
    },
    {
     "name": "stdout",
     "output_type": "stream",
     "text": [
      "Epoch 18    Train: 0.4855      Valid: 0.5182\n"
     ]
    },
    {
     "name": "stderr",
     "output_type": "stream",
     "text": [
      "100%|███████████████████████████████████████████████████████████████████████████████| 753/753 [10:02<00:00,  1.25it/s]\n",
      "100%|███████████████████████████████████████████████████████████████████████████████| 189/189 [00:34<00:00,  5.47it/s]\n"
     ]
    },
    {
     "name": "stdout",
     "output_type": "stream",
     "text": [
      "Epoch 19    Train: 0.4793      Valid: 0.5176\n"
     ]
    },
    {
     "name": "stderr",
     "output_type": "stream",
     "text": [
      "100%|███████████████████████████████████████████████████████████████████████████████| 753/753 [10:02<00:00,  1.25it/s]\n",
      "100%|███████████████████████████████████████████████████████████████████████████████| 189/189 [00:34<00:00,  5.50it/s]"
     ]
    },
    {
     "name": "stdout",
     "output_type": "stream",
     "text": [
      "Epoch 20    Train: 0.4761      Valid: 0.5151\n"
     ]
    },
    {
     "name": "stderr",
     "output_type": "stream",
     "text": [
      "\n"
     ]
    }
   ],
   "source": [
    "device = torch.device(0)\n",
    "\n",
    "model = create_model()\n",
    "model.to(device)\n",
    "\n",
    "optimizer = torch.optim.AdamW(model.parameters(), lr=3e-3)\n",
    "\n",
    "# one-cycle schedule\n",
    "scheduler = torch.optim.lr_scheduler.OneCycleLR(\n",
    "    optimizer, \n",
    "    max_lr=3e-3, \n",
    "    steps_per_epoch=len(dl_train), \n",
    "    epochs=20\n",
    ")\n",
    "\n",
    "for epoch in range(1, 21):\n",
    "    # train\n",
    "    # =====\n",
    "    model.train()\n",
    "    train_loss = 0\n",
    "\n",
    "    # continue grabbing batches of training data\n",
    "    for xb, yb in tqdm.tqdm(iter(dl_train)):\n",
    "        xb = xb.to(device).float()\n",
    "        yb = yb.to(device).float()\n",
    "        prediction = model(xb)\n",
    "        loss = torch.nn.functional.mse_loss(prediction, yb)\n",
    "        train_loss += loss.item()\n",
    "        optimizer.zero_grad()\n",
    "        loss.backward()\n",
    "        optimizer.step()\n",
    "        scheduler.step()\n",
    "\n",
    "    # validate\n",
    "    # ========\n",
    "    valid_loss = 0\n",
    "\n",
    "    # no need to compute gradients, since we're not trying to update the model\n",
    "    # this let's us perform another forward pass after one epoch of training\n",
    "    with torch.no_grad():  \n",
    "        model.eval()\n",
    "        for xb, yb in tqdm.tqdm(iter(dl_valid)):   \n",
    "            xb = xb.to(device).float()\n",
    "            yb = yb.to(device).float()\n",
    "            prediction = model(xb)\n",
    "            loss = torch.nn.functional.mse_loss(prediction, yb)\n",
    "            valid_loss += loss.item()\n",
    "\n",
    "    # see how well we did\n",
    "    train_loss = train_loss / len(dl_train)\n",
    "    valid_loss = valid_loss / len(dl_valid)\n",
    "\n",
    "    print(f'Epoch {epoch}    Train: {train_loss:.4f}      Valid: {valid_loss:.4f}')"
   ]
  },
  {
   "cell_type": "code",
   "execution_count": 24,
   "metadata": {},
   "outputs": [],
   "source": [
    "# torch.save(model.state_dict(), './models/pure-pytorch_resnet34-20epochs.pth');\n",
    "# torch.save(model.state_dict(), './models/pure-pytorch_convnext-tiny-20epochs.pth');"
   ]
  },
  {
   "cell_type": "code",
   "execution_count": 26,
   "metadata": {},
   "outputs": [
    {
     "name": "stdout",
     "output_type": "stream",
     "text": [
      "Epoch 1    Train: 0.8116      Valid: 0.7632\n",
      "Epoch 2    Train: 0.6781      Valid: 0.6604\n",
      "Epoch 3    Train: 0.6344      Valid: 0.6425\n",
      "Epoch 4    Train: 0.6155      Valid: 0.6283\n",
      "Epoch 5    Train: 0.6078      Valid: 0.6149\n",
      "Epoch 6    Train: 0.6005      Valid: 0.5931\n",
      "Epoch 7    Train: 0.5973      Valid: 0.5886\n",
      "Epoch 8    Train: 0.5935      Valid: 0.5805\n",
      "Epoch 9    Train: 0.5893      Valid: 0.6002\n",
      "Epoch 10    Train: 0.5894      Valid: 0.5974\n",
      "Epoch 11    Train: 0.5921      Valid: 0.5898\n",
      "Epoch 12    Train: 0.5814      Valid: 0.5765\n",
      "Epoch 13    Train: 0.5779      Valid: 0.5931\n",
      "Epoch 14    Train: 0.5828      Valid: 0.5970\n",
      "Epoch 15    Train: 0.5710      Valid: 0.5933\n",
      "Epoch 16    Train: 0.5669      Valid: 0.5659\n",
      "Epoch 17    Train: 0.5622      Valid: 0.5781\n",
      "Epoch 18    Train: 0.5629      Valid: 0.5675\n",
      "Epoch 19    Train: 0.5557      Valid: 0.5656\n",
      "Epoch 20    Train: 0.5519      Valid: 0.5530\n",
      "Epoch 21    Train: 0.5450      Valid: 0.5519\n",
      "Epoch 22    Train: 0.5414      Valid: 0.5456\n",
      "Epoch 23    Train: 0.5371      Valid: 0.5563\n",
      "Epoch 24    Train: 0.5340      Valid: 0.5406\n",
      "Epoch 25    Train: 0.5294      Valid: 0.5423\n",
      "Epoch 26    Train: 0.5275      Valid: 0.5421\n",
      "Epoch 27    Train: 0.5295      Valid: 0.5402\n",
      "Epoch 28    Train: 0.5219      Valid: 0.5358\n",
      "Epoch 29    Train: 0.5133      Valid: 0.5302\n",
      "Epoch 30    Train: 0.5098      Valid: 0.5349\n",
      "Epoch 31    Train: 0.5052      Valid: 0.5256\n",
      "Epoch 32    Train: 0.5040      Valid: 0.5255\n",
      "Epoch 33    Train: 0.4989      Valid: 0.5326\n",
      "Epoch 34    Train: 0.4912      Valid: 0.5249\n",
      "Epoch 35    Train: 0.4879      Valid: 0.5229\n",
      "Epoch 36    Train: 0.4810      Valid: 0.5274\n",
      "Epoch 37    Train: 0.4771      Valid: 0.5272\n",
      "Epoch 38    Train: 0.4691      Valid: 0.5218\n",
      "Epoch 39    Train: 0.4614      Valid: 0.5240\n",
      "Epoch 40    Train: 0.4560      Valid: 0.5189\n",
      "Epoch 41    Train: 0.4473      Valid: 0.5258\n",
      "Epoch 42    Train: 0.4385      Valid: 0.5257\n",
      "Epoch 43    Train: 0.4282      Valid: 0.5230\n",
      "Epoch 44    Train: 0.4193      Valid: 0.5159\n",
      "Epoch 45    Train: 0.4096      Valid: 0.5213\n",
      "Epoch 46    Train: 0.4006      Valid: 0.5255\n",
      "Epoch 47    Train: 0.3900      Valid: 0.5317\n",
      "Epoch 48    Train: 0.3798      Valid: 0.5270\n",
      "Epoch 49    Train: 0.3679      Valid: 0.5367\n",
      "Epoch 50    Train: 0.3579      Valid: 0.5363\n",
      "Epoch 51    Train: 0.3488      Valid: 0.5448\n",
      "Epoch 52    Train: 0.3403      Valid: 0.5454\n",
      "Epoch 53    Train: 0.3322      Valid: 0.5464\n",
      "Epoch 54    Train: 0.3243      Valid: 0.5480\n",
      "Epoch 55    Train: 0.3186      Valid: 0.5554\n",
      "Epoch 56    Train: 0.3137      Valid: 0.5575\n",
      "Epoch 57    Train: 0.3102      Valid: 0.5583\n",
      "Epoch 58    Train: 0.3071      Valid: 0.5610\n",
      "Epoch 59    Train: 0.3064      Valid: 0.5540\n",
      "Epoch 60    Train: 0.3053      Valid: 0.5617\n"
     ]
    }
   ],
   "source": [
    "device = torch.device(0)\n",
    "\n",
    "model = create_model()\n",
    "model.to(device)\n",
    "\n",
    "optimizer = torch.optim.AdamW(model.parameters(), lr=3e-3)\n",
    "\n",
    "# one-cycle schedule\n",
    "scheduler = torch.optim.lr_scheduler.OneCycleLR(\n",
    "    optimizer, \n",
    "    max_lr=3e-3, \n",
    "    steps_per_epoch=len(dl_train), \n",
    "    epochs=60\n",
    ")\n",
    "\n",
    "for epoch in range(1, 61):\n",
    "    # train\n",
    "    # =====\n",
    "    model.train()\n",
    "    train_loss = 0\n",
    "\n",
    "    # continue grabbing batches of training data\n",
    "    for xb, yb in iter(dl_train):\n",
    "        xb = xb.to(device).float()\n",
    "        yb = yb.to(device).float()\n",
    "        prediction = model(xb)\n",
    "        loss = torch.nn.functional.mse_loss(prediction, yb)\n",
    "        train_loss += loss.item()\n",
    "        optimizer.zero_grad()\n",
    "        loss.backward()\n",
    "        optimizer.step()\n",
    "        scheduler.step()\n",
    "\n",
    "    # validate\n",
    "    # ========\n",
    "    valid_loss = 0\n",
    "\n",
    "    # no need to compute gradients, since we're not trying to update the model\n",
    "    # this let's us perform another forward pass after one epoch of training\n",
    "    with torch.no_grad():  \n",
    "        model.eval()\n",
    "        for xb, yb in iter(dl_valid):   \n",
    "            xb = xb.to(device).float()\n",
    "            yb = yb.to(device).float()\n",
    "            prediction = model(xb)\n",
    "            loss = torch.nn.functional.mse_loss(prediction, yb)\n",
    "            valid_loss += loss.item()\n",
    "\n",
    "    # see how well we did\n",
    "    train_loss = train_loss / len(dl_train)\n",
    "    valid_loss = valid_loss / len(dl_valid)\n",
    "\n",
    "    print(f'Epoch {epoch}    Train: {train_loss:.4f}      Valid: {valid_loss:.4f}')"
   ]
  },
  {
   "cell_type": "code",
   "execution_count": 27,
   "metadata": {},
   "outputs": [],
   "source": [
    "# torch.save(model.state_dict(), './models/pure-pytorch_convnext-tiny-60epochs.pth');"
   ]
  }
 ],
 "metadata": {
  "kernelspec": {
   "display_name": "Python [conda env:astro]",
   "language": "python",
   "name": "conda-env-astro-py"
  },
  "language_info": {
   "codemirror_mode": {
    "name": "ipython",
    "version": 3
   },
   "file_extension": ".py",
   "mimetype": "text/x-python",
   "name": "python",
   "nbconvert_exporter": "python",
   "pygments_lexer": "ipython3",
   "version": "3.10.8"
  },
  "vscode": {
   "interpreter": {
    "hash": "fca95fab323a57b09d5323f53a9d5d69d2b483450e1dcda8e95b3b900f26976c"
   }
  }
 },
 "nbformat": 4,
 "nbformat_minor": 4
}
